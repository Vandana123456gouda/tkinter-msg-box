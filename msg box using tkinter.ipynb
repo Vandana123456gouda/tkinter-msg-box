{
 "cells": [
  {
   "cell_type": "code",
   "execution_count": 11,
   "metadata": {},
   "outputs": [],
   "source": [
    "from tkinter import * \n",
    "from tkinter import messagebox \n",
    "  \n",
    "root = Tk() \n",
    "root.geometry(\"300x200\") \n",
    "  \n",
    "w = Label(root, text ='Google', font = \"50\")  \n",
    "w.pack() \n",
    "  \n",
    "messagebox.showinfo(\"showinfo\", \"Information\") \n",
    "  \n",
    "messagebox.showwarning(\"showwarning\", \"Warning\") \n",
    "  \n",
    "messagebox.showerror(\"showerror\", \"Error\") \n",
    "  \n",
    "messagebox.askquestion(\"askquestion\", \"Are you sure?\") \n",
    "  \n",
    "messagebox.askokcancel(\"askokcancel\", \"Want to continue?\") \n",
    "  \n",
    "messagebox.askyesno(\"askyesno\", \"Find the value?\") \n",
    "  \n",
    "  \n",
    "messagebox.askretrycancel(\"askretrycancel\", \"Try again?\")   \n",
    "  \n",
    "root.mainloop()  \n"
   ]
  },
  {
   "cell_type": "code",
   "execution_count": null,
   "metadata": {},
   "outputs": [],
   "source": []
  },
  {
   "cell_type": "code",
   "execution_count": null,
   "metadata": {},
   "outputs": [],
   "source": []
  }
 ],
 "metadata": {
  "kernelspec": {
   "display_name": "Python 3",
   "language": "python",
   "name": "python3"
  },
  "language_info": {
   "codemirror_mode": {
    "name": "ipython",
    "version": 3
   },
   "file_extension": ".py",
   "mimetype": "text/x-python",
   "name": "python",
   "nbconvert_exporter": "python",
   "pygments_lexer": "ipython3",
   "version": "3.7.1"
  }
 },
 "nbformat": 4,
 "nbformat_minor": 2
}
